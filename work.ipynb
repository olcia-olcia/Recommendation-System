{
 "cells": [
  {
   "cell_type": "code",
   "execution_count": 1,
   "metadata": {},
   "outputs": [],
   "source": [
    "from preprocess import preprocess\n",
    "import os\n",
    "import pandas as pd\n",
    "pd.set_option('display.float_format', '{:.2f}'.format)\n"
   ]
  },
  {
   "cell_type": "code",
   "execution_count": 2,
   "metadata": {},
   "outputs": [],
   "source": [
    "json_path = 'data/metadata'\n",
    "csv_path = 'data/csv'\n",
    "pickle_path = 'data/pickle'"
   ]
  },
  {
   "cell_type": "code",
   "execution_count": 3,
   "metadata": {},
   "outputs": [],
   "source": [
    "metadata_files = preprocess.get_files_from_directory(json_path,'.json')\n",
    "ratings_files = preprocess.get_files_from_directory(csv_path,'.csv')\n",
    "pickle_name = [k.replace(\".csv\",\"\").replace(f\"{csv_path}\",pickle_path) for k in ratings_files]"
   ]
  },
  {
   "cell_type": "code",
   "execution_count": 17,
   "metadata": {},
   "outputs": [],
   "source": [
    "preprocessed_ratings = []\n",
    "for rating, meta in zip(ratings_files, metadata_files):\n",
    "    df = preprocess.join_ratings_with_metadata(rating,meta)\n",
    "    preprocessed_ratings.append(df)"
   ]
  },
  {
   "cell_type": "code",
   "execution_count": 25,
   "metadata": {},
   "outputs": [],
   "source": [
    "for path, df in zip(pickle_name, preprocessed_ratings):\n",
    "    df.to_pickle(path)"
   ]
  }
 ],
 "metadata": {
  "interpreter": {
   "hash": "8d950e12f69d882a67e759e249d84725f8af1401d250a57698686ec740787d37"
  },
  "kernelspec": {
   "display_name": "Python 3.9.7 ('Recommendation-System-cSi_enBl')",
   "language": "python",
   "name": "python3"
  },
  "language_info": {
   "codemirror_mode": {
    "name": "ipython",
    "version": 3
   },
   "file_extension": ".py",
   "mimetype": "text/x-python",
   "name": "python",
   "nbconvert_exporter": "python",
   "pygments_lexer": "ipython3",
   "version": "3.9.7"
  },
  "orig_nbformat": 4
 },
 "nbformat": 4,
 "nbformat_minor": 2
}

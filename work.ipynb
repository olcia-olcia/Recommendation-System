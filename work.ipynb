{
 "cells": [
  {
   "cell_type": "code",
   "execution_count": null,
   "metadata": {},
   "outputs": [
    {
     "ename": "",
     "evalue": "",
     "output_type": "error",
     "traceback": [
      "\u001b[1;31mFailed to start the Kernel. \n",
      "View Jupyter <a href='command:jupyter.viewOutput'>log</a> for further details."
     ]
    }
   ],
   "source": [
    "from preprocess import preprocess\n",
    "import os\n"
   ]
  },
  {
   "cell_type": "code",
   "execution_count": 2,
   "metadata": {},
   "outputs": [],
   "source": [
    "json_path = 'data/metadata'\n",
    "csv_path = 'data/csv'"
   ]
  },
  {
   "cell_type": "code",
   "execution_count": 58,
   "metadata": {},
   "outputs": [],
   "source": [
    "metadata_files = preprocess.get_files_from_directory(json_path,'.json')\n",
    "ratings_files = preprocess.get_files_from_directory(csv_path,'.csv')\n",
    "pickle_name = [k.replace(\".csv\",\".pkl\").replace(f\"{csv_path}\",pickle_path) for k in ratings_files]"
   ]
  },
  {
   "cell_type": "code",
   "execution_count": 59,
   "metadata": {},
   "outputs": [],
   "source": [
    "#save prepocessed data\n",
    "frames = preprocess.preproces_directory(ratings_files, metadata_files, pickle_name)"
   ]
  },
  {
   "cell_type": "code",
   "execution_count": 4,
   "metadata": {},
   "outputs": [],
   "source": [
    "df = pd.read_pickle(pickle_name[0])"
   ]
  },
  {
   "cell_type": "code",
   "execution_count": 6,
   "metadata": {},
   "outputs": [
    {
     "data": {
      "text/plain": [
       "itemID                     283349.00\n",
       "userID                    2695230.00\n",
       "rating                    5175105.00\n",
       "avg_number_reviews              1.92\n",
       "rating_mx_shape      763690725270.00\n",
       "sparsity                        1.00\n",
       "dtype: float64"
      ]
     },
     "execution_count": 6,
     "metadata": {},
     "output_type": "execute_result"
    }
   ],
   "source": [
    "preprocess.calculate_statistics(df)"
   ]
  },
  {
   "cell_type": "code",
   "execution_count": 8,
   "metadata": {},
   "outputs": [
    {
     "data": {
      "text/plain": [
       "Index(['itemID', 'userID', 'rating', 'unixReviewTime', 'category', 'tech1',\n",
       "       'description', 'fit', 'title', 'also_buy', 'tech2', 'brand', 'feature',\n",
       "       'rank', 'also_view', 'main_cat', 'similar_item', 'date', 'price',\n",
       "       'asin', 'imageURL', 'imageURLHighRes', 'details'],\n",
       "      dtype='object')"
      ]
     },
     "execution_count": 8,
     "metadata": {},
     "output_type": "execute_result"
    }
   ],
   "source": [
    "df.columns"
   ]
  },
  {
   "cell_type": "code",
   "execution_count": 57,
   "metadata": {},
   "outputs": [
    {
     "data": {
      "text/plain": [
       "itemID                   10.00\n",
       "userID                21669.00\n",
       "rating                51416.00\n",
       "avg_number_reviews        2.37\n",
       "rating_mx_shape      216690.00\n",
       "sparsity                  0.76\n",
       "dtype: float64"
      ]
     },
     "execution_count": 57,
     "metadata": {},
     "output_type": "execute_result"
    }
   ],
   "source": [
    "hejka = preprocess.extract_ratings(df,10,400)\n",
    "preprocess.calculate_statistics(hejka)"
   ]
  },
  {
   "cell_type": "code",
   "execution_count": null,
   "metadata": {},
   "outputs": [],
   "source": []
  }
 ],
 "metadata": {
  "interpreter": {
   "hash": "8d950e12f69d882a67e759e249d84725f8af1401d250a57698686ec740787d37"
  },
  "kernelspec": {
   "display_name": "Python 3.9.7 ('Recommendation-System-cSi_enBl')",
   "language": "python",
   "name": "python3"
  },
  "language_info": {
   "codemirror_mode": {
    "name": "ipython",
    "version": 3
   },
   "file_extension": ".py",
   "mimetype": "text/x-python",
   "name": "python",
   "nbconvert_exporter": "python",
   "pygments_lexer": "ipython3",
   "version": "3.9.7"
  },
  "orig_nbformat": 4
 },
 "nbformat": 4,
 "nbformat_minor": 2
}
